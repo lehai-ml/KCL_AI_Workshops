{
  "nbformat": 4,
  "nbformat_minor": 0,
  "metadata": {
    "colab": {
      "name": "Machine Learning Workshop 3: Recurrent Neural Network and Kanye Rap generator.ipynb",
      "provenance": [],
      "collapsed_sections": [
        "n28w7c9Lbsn4",
        "-2sGse8SgYhi",
        "RX5ksdKjimWB",
        "sWFgkiZmzx5B",
        "B1aSbPsyk4JD"
      ],
      "authorship_tag": "ABX9TyPcKVFe3OHPso2+PgHgE+nd",
      "include_colab_link": true
    },
    "kernelspec": {
      "name": "python3",
      "display_name": "Python 3"
    },
    "accelerator": "GPU"
  },
  "cells": [
    {
      "cell_type": "markdown",
      "metadata": {
        "id": "view-in-github",
        "colab_type": "text"
      },
      "source": [
        "<a href=\"https://colab.research.google.com/github/lehai-ml/KCL_AI_Workshops/blob/master/Machine_Learning_Workshop_3_Recurrent_Neural_Network_and_Kanye_Rap_generator.ipynb\" target=\"_parent\"><img src=\"https://colab.research.google.com/assets/colab-badge.svg\" alt=\"Open In Colab\"/></a>"
      ]
    },
    {
      "cell_type": "markdown",
      "metadata": {
        "id": "KLH3h-zGTASF"
      },
      "source": [
        "# Machine Learning Workshop 3: Recurrent Neural Network and Kanye Rap Generator and Sentiment Analysis\n",
        "*Instructor:* Le Hai, (le.hai@kcl.ac.uk)\n",
        "[KCL Artificial Intelligence Society](https://www.facebook.com/kclaisoc/?__xts__[0]=68.ARBS16FGqFmhg52L83VtU55PY45QGKlU8Jrej-r7ZHALKkj9E4dzZMvGfDvg8oHnazPAlEJQ80M7--6XTHbh6hyvOoplBMVsWLITGjI5PEc8xf-ap7n00ASBE92fNKalpTFcK2OlA0hVimQEDNWEmrQkWmIQ_UiAqxDR9CQuD8YMZNBUIVOpnatRb-AKTJy5xAwKYyBa7kaBUHVsgqoCqx6BUHqgg6_0wQUoRKvWAak1mE5Vdq4uGSPpTcFtaUJz4z1iHQUaUYUjpYcMDtmuu6LFRiMnXkZaQa4YEguXNsCSBmw2tAeMX3gOXMPke-mSHO6FxwFE7Mymu0zkHZu67Mo&eid=ARB2iiXncCNlQsYa-y6uPQ7o0e_PN2CjhwNmnyTVAgy9emKkNf0k27tbD1PgM2vK_zkbN5DoiGECvZ82)\n",
        "\n",
        "**Workshop was modified from:** https://www.tensorflow.org/tutorials/text/word_embeddings and\n",
        "https://colab.research.google.com/github/tensorflow/docs/blob/master/site/en/tutorials/text/text_classification_rnn.ipynb#scrollTo=Bq6xDmf2SAs- and \n",
        "https://colab.research.google.com/github/fastai/course-v3/blob/master/nbs/dl1/lesson3-imdb.ipynb#scrollTo=Hu3BON7_4Z3f\n",
        "and \n",
        "https://towardsdatascience.com/machine-learning-text-classification-language-modelling-using-fast-ai-b1b334f2872d\n",
        "\n",
        "\n",
        "Here, we will mainly utilize the **fast.ai** library, since the syntax is intuitive and readable\n",
        "\n",
        "If you want to create a model from scratch, see here:\n",
        "\n",
        "https://www.kaggle.com/utkarshnag/text-generation-using-shakespeare-plays\n"
      ]
    },
    {
      "cell_type": "markdown",
      "metadata": {
        "id": "z6IYC_spgttc"
      },
      "source": [
        "![Unrolled RNN](http://colah.github.io/posts/2015-08-Understanding-LSTMs/img/RNN-unrolled.png)"
      ]
    },
    {
      "cell_type": "markdown",
      "metadata": {
        "id": "Itz3tn_0f9Bg"
      },
      "source": [
        "![LSTM Cell unit](http://colah.github.io/posts/2015-08-Understanding-LSTMs/img/LSTM3-chain.png)"
      ]
    },
    {
      "cell_type": "markdown",
      "metadata": {
        "id": "n28w7c9Lbsn4"
      },
      "source": [
        "# **Kanye Rap lyrics generator**\n",
        "\n"
      ]
    },
    {
      "cell_type": "code",
      "metadata": {
        "id": "d7RvTKJOwWzS",
        "outputId": "50152172-76d5-4e2c-968e-40c8a3c362eb",
        "colab": {
          "base_uri": "https://localhost:8080/",
          "height": 63
        }
      },
      "source": [
        "from tensorflow import keras # import necessary libraries of tensorflow, and keras API\n",
        "from tensorflow.keras import layers\n",
        "from fastai.text import * # we will also use fastai library to deal with text\n",
        "import numpy as np # necessary for math operation\n",
        "import pandas as pd #necessary for dataframe operation"
      ],
      "execution_count": null,
      "outputs": [
        {
          "output_type": "display_data",
          "data": {
            "text/html": [
              "<p style=\"color: red;\">\n",
              "The default version of TensorFlow in Colab will soon switch to TensorFlow 2.x.<br>\n",
              "We recommend you <a href=\"https://www.tensorflow.org/guide/migrate\" target=\"_blank\">upgrade</a> now \n",
              "or ensure your notebook will continue to use TensorFlow 1.x via the <code>%tensorflow_version 1.x</code> magic:\n",
              "<a href=\"https://colab.research.google.com/notebooks/tensorflow_version.ipynb\" target=\"_blank\">more info</a>.</p>\n"
            ],
            "text/plain": [
              "<IPython.core.display.HTML object>"
            ]
          },
          "metadata": {
            "tags": []
          }
        }
      ]
    },
    {
      "cell_type": "code",
      "metadata": {
        "id": "TDmcHXD-KbWX",
        "outputId": "0b37ffee-4405-411d-ca82-9047951bc14b",
        "colab": {
          "base_uri": "https://localhost:8080/",
          "height": 204
        }
      },
      "source": [
        "# Dataset\n",
        "import urllib.request #this is for opening url\n",
        "# kanye lyrics: https://pastebin.com/raw/9S5u08EU\n",
        "target_url = \"https://pastebin.com/raw/9S5u08EU\" # go to pastebin, paste in your rap lyrics, submit that and then click \"raw\", or swap it out for one of the URL's above\n",
        "dirty_rap_source = urllib.request.urlopen(target_url).read()\n",
        "rap_source = [x.split(b'\\r')[0].decode('utf-8') for x in dirty_rap_source.splitlines()]#I open the url source, and then read line by line\n",
        "                                                                                        # and then save it to rap_source as list\n",
        "while \"\" in rap_source: #remove unecessary spaces\n",
        "  rap_source.remove(\"\")\n",
        "while \" \" in rap_source:\n",
        "  rap_source.remove(\" \")\n",
        "print (\"Your dataset's first 10 rap lines: \")\n",
        "rap_source[:10]"
      ],
      "execution_count": null,
      "outputs": [
        {
          "output_type": "stream",
          "text": [
            "Your dataset's first 10 rap lines: \n"
          ],
          "name": "stdout"
        },
        {
          "output_type": "execute_result",
          "data": {
            "text/plain": [
              "['Let the suicide doors up',\n",
              " 'I threw suicides on the tour bus',\n",
              " 'I threw suicides on the private jet',\n",
              " \"You know what that mean, I'm fly to death\",\n",
              " \"I step in Def Jam buildin' like I'm the shit\",\n",
              " \"Tell 'em give me fifty million or I'ma quit\",\n",
              " \"Most rappers' taste level ain't at my waist level\",\n",
              " \"Turn up the bass 'til it's up-in-yo-face level\",\n",
              " \"Don't do no press but I get the most press kit\",\n",
              " 'Plus, yo, my bitch make your bitch look like Precious']"
            ]
          },
          "metadata": {
            "tags": []
          },
          "execution_count": 2
        }
      ]
    },
    {
      "cell_type": "markdown",
      "metadata": {
        "id": "S5-y0prijEjS"
      },
      "source": [
        "## Data processing"
      ]
    },
    {
      "cell_type": "code",
      "metadata": {
        "id": "cqGIT15sU7vp"
      },
      "source": [
        "from sklearn.model_selection import train_test_split"
      ],
      "execution_count": null,
      "outputs": []
    },
    {
      "cell_type": "code",
      "metadata": {
        "id": "AsulH6e_VE-Q"
      },
      "source": [
        "train_set,test_set=train_test_split(rap_source,test_size=0.1) #divide into train and test set"
      ],
      "execution_count": null,
      "outputs": []
    },
    {
      "cell_type": "code",
      "metadata": {
        "id": "rpq5yqEQVyyY"
      },
      "source": [
        "df_trn=pd.DataFrame(train_set)# save train and test set into dataframes so we can better manipulate them\n",
        "df_test=pd.DataFrame(test_set)"
      ],
      "execution_count": null,
      "outputs": []
    },
    {
      "cell_type": "code",
      "metadata": {
        "id": "A7QXRkaTb3Pn",
        "outputId": "d97ad047-9395-4550-f66f-72396cd00a75",
        "colab": {
          "base_uri": "https://localhost:8080/",
          "height": 419
        }
      },
      "source": [
        "df_trn"
      ],
      "execution_count": null,
      "outputs": [
        {
          "output_type": "execute_result",
          "data": {
            "text/html": [
              "<div>\n",
              "<style scoped>\n",
              "    .dataframe tbody tr th:only-of-type {\n",
              "        vertical-align: middle;\n",
              "    }\n",
              "\n",
              "    .dataframe tbody tr th {\n",
              "        vertical-align: top;\n",
              "    }\n",
              "\n",
              "    .dataframe thead th {\n",
              "        text-align: right;\n",
              "    }\n",
              "</style>\n",
              "<table border=\"1\" class=\"dataframe\">\n",
              "  <thead>\n",
              "    <tr style=\"text-align: right;\">\n",
              "      <th></th>\n",
              "      <th>0</th>\n",
              "    </tr>\n",
              "  </thead>\n",
              "  <tbody>\n",
              "    <tr>\n",
              "      <th>0</th>\n",
              "      <td>I'm trippin', I'm caught up in the moment, right?</td>\n",
              "    </tr>\n",
              "    <tr>\n",
              "      <th>1</th>\n",
              "      <td>Tell the conductor, \"Just drive so far.\"</td>\n",
              "    </tr>\n",
              "    <tr>\n",
              "      <th>2</th>\n",
              "      <td>You ain't accustomed to going through customs</td>\n",
              "    </tr>\n",
              "    <tr>\n",
              "      <th>3</th>\n",
              "      <td>Niggas tryin to figure out since Kan came</td>\n",
              "    </tr>\n",
              "    <tr>\n",
              "      <th>4</th>\n",
              "      <td>Where they drivin' spaceships instead of cars</td>\n",
              "    </tr>\n",
              "    <tr>\n",
              "      <th>...</th>\n",
              "      <td>...</td>\n",
              "    </tr>\n",
              "    <tr>\n",
              "      <th>5566</th>\n",
              "      <td>Out of state though, man that hurt, yo</td>\n",
              "    </tr>\n",
              "    <tr>\n",
              "      <th>5567</th>\n",
              "      <td>In my past, you on the other side of the glass</td>\n",
              "    </tr>\n",
              "    <tr>\n",
              "      <th>5568</th>\n",
              "      <td>Only tell you real shit, that's the tea, no sip</td>\n",
              "    </tr>\n",
              "    <tr>\n",
              "      <th>5569</th>\n",
              "      <td>I'm not loving you, way I wanted to</td>\n",
              "    </tr>\n",
              "    <tr>\n",
              "      <th>5570</th>\n",
              "      <td>Pass the refreshments, a cool, cool beverage</td>\n",
              "    </tr>\n",
              "  </tbody>\n",
              "</table>\n",
              "<p>5571 rows × 1 columns</p>\n",
              "</div>"
            ],
            "text/plain": [
              "                                                      0\n",
              "0     I'm trippin', I'm caught up in the moment, right?\n",
              "1              Tell the conductor, \"Just drive so far.\"\n",
              "2         You ain't accustomed to going through customs\n",
              "3             Niggas tryin to figure out since Kan came\n",
              "4         Where they drivin' spaceships instead of cars\n",
              "...                                                 ...\n",
              "5566             Out of state though, man that hurt, yo\n",
              "5567     In my past, you on the other side of the glass\n",
              "5568    Only tell you real shit, that's the tea, no sip\n",
              "5569                I'm not loving you, way I wanted to\n",
              "5570       Pass the refreshments, a cool, cool beverage\n",
              "\n",
              "[5571 rows x 1 columns]"
            ]
          },
          "metadata": {
            "tags": []
          },
          "execution_count": 6
        }
      ]
    },
    {
      "cell_type": "code",
      "metadata": {
        "id": "rRO-rgU9Uid0",
        "outputId": "72ef0b6b-1cf8-40e3-d374-403d82ca1b32",
        "colab": {
          "base_uri": "https://localhost:8080/",
          "height": 17
        }
      },
      "source": [
        "#Now we are going to call the fast.ai library to prepare our text for training (https://docs.fast.ai/text.data.html#NLP-datasets)\n",
        "data_lm = TextLMDataBunch.from_df('./',train_df=df_trn, valid_df=df_test,text_cols=0)\n",
        "#in nutshell, we will:\n",
        "#1)tokenize and numerize our dataset\n",
        "#2)divide our dataset into batches for training process"
      ],
      "execution_count": null,
      "outputs": [
        {
          "output_type": "display_data",
          "data": {
            "text/html": [
              ""
            ],
            "text/plain": [
              "<IPython.core.display.HTML object>"
            ]
          },
          "metadata": {
            "tags": []
          }
        },
        {
          "output_type": "display_data",
          "data": {
            "text/html": [
              ""
            ],
            "text/plain": [
              "<IPython.core.display.HTML object>"
            ]
          },
          "metadata": {
            "tags": []
          }
        }
      ]
    },
    {
      "cell_type": "markdown",
      "metadata": {
        "id": "-2sGse8SgYhi"
      },
      "source": [
        "### **Tokenization** (behind the scene)"
      ]
    },
    {
      "cell_type": "markdown",
      "metadata": {
        "id": "WsbliETNgBN4"
      },
      "source": [
        "\n",
        "The easiest way to process our text is by spliting the string on spaces, but fast.ai do more than that by:\n",
        "- take care of punctuation\n",
        "- deals with contractions, i.e. isn't or don't.\n",
        "- clean parts of the text, e.g. HTML code.\n",
        "\n",
        "To see what the tokenizer had done behind the scenes, let's have a look at a few texts in a single batch."
      ]
    },
    {
      "cell_type": "code",
      "metadata": {
        "id": "SsBN1xDIYWnr",
        "outputId": "bfabdc50-2432-4c8d-e97c-c33d5e0b0f8c",
        "colab": {
          "base_uri": "https://localhost:8080/",
          "height": 97
        }
      },
      "source": [
        "data_lm.show_batch(1)"
      ],
      "execution_count": null,
      "outputs": [
        {
          "output_type": "display_data",
          "data": {
            "text/html": [
              "<table border=\"1\" class=\"dataframe\">\n",
              "  <thead>\n",
              "    <tr style=\"text-align: right;\">\n",
              "      <th>idx</th>\n",
              "      <th>text</th>\n",
              "    </tr>\n",
              "  </thead>\n",
              "  <tbody>\n",
              "    <tr>\n",
              "      <td>0</td>\n",
              "      <td>xxunk nigga xxbos xxmaj just looking at your history xxbos \" xxmaj baby girl , he 's a loner xxbos xxmaj but i 'm fuckin ' , fuckin ' , fuckin ' like i 'm tryna make four more xxbos xxmaj black dick all in your spouse again xxbos xxmaj we lost a four leaf xxunk xxbos xxmaj started a little xxunk just to get some traffic xxbos xxmaj put</td>\n",
              "    </tr>\n",
              "  </tbody>\n",
              "</table>"
            ],
            "text/plain": [
              "<IPython.core.display.HTML object>"
            ]
          },
          "metadata": {
            "tags": []
          }
        }
      ]
    },
    {
      "cell_type": "markdown",
      "metadata": {
        "id": "8YYd9RfoaWHG"
      },
      "source": [
        "Here, all sentences in a single batch have been concatenated into a single sentence. Not only words have been divided by at the space, but certain tokens have been used to denotes begining of the sentence, capitalization of a word, and contractions are tokenized as: did and n't etc.\n",
        "\n",
        "**xxbos**: Begining of a sentence\n",
        "\n",
        "**xxfld**: Represent separate parts of a document like title, summary etc., each one will get a separate field and so they will get numbered (e.g. xxfld 1, xxfld 2).\n",
        "\n",
        "**xxup**: If there's something in all caps, it gets lower cased and a token called xxup will get added to it. Words that are fully capitalized, such as “I AM SHOUTING”, are tokenized as “xxup i xxup am xxup shouting“\n",
        "\n",
        "**xxunk**: token used instead of an uncommon word.\n",
        "\n",
        "**xxmaj**: token indicates that there is capitalization of the word. “The” will be tokenized as “xxmaj the“.\n",
        "\n",
        "**xxrep**: token indicates repeated word, if you have 29 ! in a row, (i.e. xxrep 29 !).\n",
        "\n"
      ]
    },
    {
      "cell_type": "markdown",
      "metadata": {
        "id": "RX5ksdKjimWB"
      },
      "source": [
        "### **Numerization** (behind the scene)\n"
      ]
    },
    {
      "cell_type": "markdown",
      "metadata": {
        "id": "qItZsJEtjLNr"
      },
      "source": [
        "With our tokens, we convert them into integers, such that our \"new dictionary\" will keep the ones that appear at least twice, and the rest will have the token \"UNK\"\n",
        "\n",
        "Our vocabulary (from int to token) is stored in 'vocab' attribute, in a dictionary called 'itos'.\n",
        "\n",
        "Let's look at it"
      ]
    },
    {
      "cell_type": "code",
      "metadata": {
        "id": "PKnrZZPQkKk1",
        "outputId": "e2386825-d8bc-4c66-867f-f6be24299b15",
        "colab": {
          "base_uri": "https://localhost:8080/",
          "height": 34
        }
      },
      "source": [
        "print(data_lm.vocab.itos[:30]) #here is our token (vocab) list"
      ],
      "execution_count": null,
      "outputs": [
        {
          "output_type": "stream",
          "text": [
            "['xxunk', 'xxpad', 'xxbos', 'xxeos', 'xxfld', 'xxmaj', 'xxup', 'xxrep', 'xxwrep', ',', 'i', 'the', 'you', 'a', 'and', 'to', \"n't\", 'that', 'my', \"'\", 'it', \"'s\", 'in', 'me', \"'m\", 'like', 'we', 'do', 'on', '?']\n"
          ],
          "name": "stdout"
        }
      ]
    },
    {
      "cell_type": "code",
      "metadata": {
        "id": "fbLcX7MXkfVl",
        "outputId": "72f7786a-2260-47c4-a629-f0d79c6f8c52",
        "colab": {
          "base_uri": "https://localhost:8080/",
          "height": 34
        }
      },
      "source": [
        "data_lm.train_ds[4][0] # confirm again that each line has been separated into tokens"
      ],
      "execution_count": null,
      "outputs": [
        {
          "output_type": "execute_result",
          "data": {
            "text/plain": [
              "Text xxbos xxmaj where they drivin ' xxunk instead of cars"
            ]
          },
          "metadata": {
            "tags": []
          },
          "execution_count": 10
        }
      ]
    },
    {
      "cell_type": "code",
      "metadata": {
        "id": "7kv3BLFbk-xB",
        "outputId": "cd781996-0a32-4068-daae-8c95d343c399",
        "colab": {
          "base_uri": "https://localhost:8080/",
          "height": 34
        }
      },
      "source": [
        "data_lm.train_ds[4][0].data #and underlying data is actually represented by numbers, confirm that hater- no. 1287 is repeated twice."
      ],
      "execution_count": null,
      "outputs": [
        {
          "output_type": "execute_result",
          "data": {
            "text/plain": [
              "array([   2,    5,  108,   31,  779,   19,    0, 1048,   36,  489])"
            ]
          },
          "metadata": {
            "tags": []
          },
          "execution_count": 11
        }
      ]
    },
    {
      "cell_type": "markdown",
      "metadata": {
        "id": "yrCmA-Lllg20"
      },
      "source": [
        "## **Transfer learning**"
      ]
    },
    {
      "cell_type": "markdown",
      "metadata": {
        "id": "7Xkek0rGmAUX"
      },
      "source": [
        "Similar to previously examined Convolutional neural network, you do not want to build a language model from scratch. Here, we utilize a RNN model, that has been previously learnt on wikipedia text called AWD_LSTM (https://arxiv.org/pdf/1708.02182.pdf). \n",
        "\n",
        "The biggest advantage of using a pre-trained model is faster training time for our model, since the pre-trained model will have better understanding of the language (here, English) than from scratch."
      ]
    },
    {
      "cell_type": "code",
      "metadata": {
        "id": "CjW9tndpYWfq",
        "outputId": "c1806866-1f82-4c95-b060-627d14678047",
        "colab": {
          "base_uri": "https://localhost:8080/",
          "height": 34
        }
      },
      "source": [
        "learner = language_model_learner(data_lm, AWD_LSTM) #we pass our dataset to the AWD_LSTM"
      ],
      "execution_count": null,
      "outputs": [
        {
          "output_type": "stream",
          "text": [
            "Downloading https://s3.amazonaws.com/fast-ai-modelzoo/wt103-fwd\n"
          ],
          "name": "stdout"
        },
        {
          "output_type": "display_data",
          "data": {
            "text/html": [
              ""
            ],
            "text/plain": [
              "<IPython.core.display.HTML object>"
            ]
          },
          "metadata": {
            "tags": []
          }
        }
      ]
    },
    {
      "cell_type": "code",
      "metadata": {
        "id": "vtO11G-CKbMF"
      },
      "source": [
        "# learner.lr_find()\n",
        "# learner.recorder.plot() #if you want to play around with the learning rate."
      ],
      "execution_count": null,
      "outputs": []
    },
    {
      "cell_type": "code",
      "metadata": {
        "id": "C2gv9OnebjHG",
        "outputId": "3fdf6118-f09a-4408-de1d-5d9ae8eec20a",
        "colab": {
          "base_uri": "https://localhost:8080/",
          "height": 80
        }
      },
      "source": [
        "learner.fit_one_cycle(1, 2e-2,moms=(0.8,0.7)) # here we fit our dataset 1 cycle, with learning rate of 2e-2."
      ],
      "execution_count": null,
      "outputs": [
        {
          "output_type": "display_data",
          "data": {
            "text/html": [
              "<table border=\"1\" class=\"dataframe\">\n",
              "  <thead>\n",
              "    <tr style=\"text-align: left;\">\n",
              "      <th>epoch</th>\n",
              "      <th>train_loss</th>\n",
              "      <th>valid_loss</th>\n",
              "      <th>accuracy</th>\n",
              "      <th>time</th>\n",
              "    </tr>\n",
              "  </thead>\n",
              "  <tbody>\n",
              "    <tr>\n",
              "      <td>0</td>\n",
              "      <td>5.174777</td>\n",
              "      <td>4.095222</td>\n",
              "      <td>0.238281</td>\n",
              "      <td>00:02</td>\n",
              "    </tr>\n",
              "  </tbody>\n",
              "</table>"
            ],
            "text/plain": [
              "<IPython.core.display.HTML object>"
            ]
          },
          "metadata": {
            "tags": []
          }
        }
      ]
    },
    {
      "cell_type": "code",
      "metadata": {
        "id": "6fTJ0_k8b3xp",
        "outputId": "73202d71-9b53-48fd-a789-57f231f2a5df",
        "colab": {
          "base_uri": "https://localhost:8080/",
          "height": 359
        }
      },
      "source": [
        "learner.unfreeze() # we then unfreeze the rest of the language model, and train the model on the whole dataset.\n",
        "learner.fit_one_cycle(10, 2e-2,moms=(0.8,0.7))"
      ],
      "execution_count": null,
      "outputs": [
        {
          "output_type": "display_data",
          "data": {
            "text/html": [
              "<table border=\"1\" class=\"dataframe\">\n",
              "  <thead>\n",
              "    <tr style=\"text-align: left;\">\n",
              "      <th>epoch</th>\n",
              "      <th>train_loss</th>\n",
              "      <th>valid_loss</th>\n",
              "      <th>accuracy</th>\n",
              "      <th>time</th>\n",
              "    </tr>\n",
              "  </thead>\n",
              "  <tbody>\n",
              "    <tr>\n",
              "      <td>0</td>\n",
              "      <td>4.261035</td>\n",
              "      <td>3.828128</td>\n",
              "      <td>0.294643</td>\n",
              "      <td>00:02</td>\n",
              "    </tr>\n",
              "    <tr>\n",
              "      <td>1</td>\n",
              "      <td>4.076240</td>\n",
              "      <td>3.733333</td>\n",
              "      <td>0.298549</td>\n",
              "      <td>00:02</td>\n",
              "    </tr>\n",
              "    <tr>\n",
              "      <td>2</td>\n",
              "      <td>3.885966</td>\n",
              "      <td>3.651770</td>\n",
              "      <td>0.319420</td>\n",
              "      <td>00:02</td>\n",
              "    </tr>\n",
              "    <tr>\n",
              "      <td>3</td>\n",
              "      <td>3.740411</td>\n",
              "      <td>3.700088</td>\n",
              "      <td>0.313393</td>\n",
              "      <td>00:02</td>\n",
              "    </tr>\n",
              "    <tr>\n",
              "      <td>4</td>\n",
              "      <td>3.527023</td>\n",
              "      <td>3.685466</td>\n",
              "      <td>0.315179</td>\n",
              "      <td>00:02</td>\n",
              "    </tr>\n",
              "    <tr>\n",
              "      <td>5</td>\n",
              "      <td>3.287577</td>\n",
              "      <td>3.772322</td>\n",
              "      <td>0.316518</td>\n",
              "      <td>00:02</td>\n",
              "    </tr>\n",
              "    <tr>\n",
              "      <td>6</td>\n",
              "      <td>3.063703</td>\n",
              "      <td>3.895697</td>\n",
              "      <td>0.312165</td>\n",
              "      <td>00:02</td>\n",
              "    </tr>\n",
              "    <tr>\n",
              "      <td>7</td>\n",
              "      <td>2.776875</td>\n",
              "      <td>3.992608</td>\n",
              "      <td>0.311719</td>\n",
              "      <td>00:02</td>\n",
              "    </tr>\n",
              "    <tr>\n",
              "      <td>8</td>\n",
              "      <td>2.496473</td>\n",
              "      <td>4.083580</td>\n",
              "      <td>0.312277</td>\n",
              "      <td>00:02</td>\n",
              "    </tr>\n",
              "    <tr>\n",
              "      <td>9</td>\n",
              "      <td>2.271247</td>\n",
              "      <td>4.090904</td>\n",
              "      <td>0.311942</td>\n",
              "      <td>00:03</td>\n",
              "    </tr>\n",
              "  </tbody>\n",
              "</table>"
            ],
            "text/plain": [
              "<IPython.core.display.HTML object>"
            ]
          },
          "metadata": {
            "tags": []
          }
        }
      ]
    },
    {
      "cell_type": "markdown",
      "metadata": {
        "id": "EZH72nNaxNJo"
      },
      "source": [
        "## Final Result"
      ]
    },
    {
      "cell_type": "code",
      "metadata": {
        "id": "XP3pwWOFcCxB",
        "outputId": "67ad69d2-09b0-4d70-ff18-24378a3e64cb",
        "colab": {
          "base_uri": "https://localhost:8080/",
          "height": 1000
        }
      },
      "source": [
        "TEXT = \"Kanye\"\n",
        "N_WORDS = 1000\n",
        "prediction=learner.predict(TEXT, N_WORDS, temperature=0.8) #temperature determines how randomized you want your words to be.\n",
        "prediction.split('xxbos')"
      ],
      "execution_count": null,
      "outputs": [
        {
          "output_type": "execute_result",
          "data": {
            "text/plain": [
              "[\"Kanye , got that , that 's a whole new arena \",\n",
              " ' Got a couple cases , still look good ',\n",
              " \" And i 'm , way too exclusive \",\n",
              " ' He said homie you got your own dick , you got ta have two kids ',\n",
              " ' She said you left your kids and they just like you ',\n",
              " ' Is that bitch really Benz ? ',\n",
              " ' She said , \" You gon na kill me , then you do n\\'t believe me \" ',\n",
              " ' So i could make it from the student loans to a Benz ',\n",
              " ' Folks all up in our business ',\n",
              " ' Rose gold Jesus piece with the brown ice ',\n",
              " ' The crowd is open , i see the glass , i know the same thing ',\n",
              " \" Make 'em say bout we getting through , nigga \",\n",
              " \" So i could make it to the church ' fore you meet me \",\n",
              " ' You still got ta go and get the CD on me ',\n",
              " ' Step into the beat , throw a movie on ',\n",
              " ' i can never be too big for my team ',\n",
              " \" Try and make it to the party ' fore the guest list close \",\n",
              " \" If you do n't know by now i 'm talkin about Chi - Town \",\n",
              " ' And just a few things i see with my eyes closed ',\n",
              " \" We used to do it like it was n't even drugs \",\n",
              " ' How much she switch the position to change the game ',\n",
              " ' x or Mos and Kweli ? ',\n",
              " \" But i 'm so bad \",\n",
              " \" i 'm trying to find where the tissue is \",\n",
              " ' Was in Timbuck2 i had to take my hand ',\n",
              " \" So i guess that 's why i 'm here and i ca n't come back home \",\n",
              " \" Sister do n't let your guard down \",\n",
              " ' And i keep trying to keep the door closed ',\n",
              " \" We to the ' Ye , we ca n't get along \",\n",
              " \" It 's 3 am and we 're just starting again \",\n",
              " ' While we at the party yeah , he be barely really perfect ',\n",
              " \" Y'all niggas ca n't control me \",\n",
              " ' But it go crazy to keep the door closed ',\n",
              " ' And my titties just threw me on ',\n",
              " \" Another nigga that 'll make my jeweler \",\n",
              " \" i 'm a Delta , so i could n't rhyme \",\n",
              " \" If i get my Bentley they 'll have me back in your mind \",\n",
              " \" He said ' You ordered something that always hurt you , look at me like i 'm dating \",\n",
              " ' My man said , \" Baby , these wheels . \" ',\n",
              " \" And i ai n't take the drive to Home Depot \",\n",
              " \" Back in the hood it 's a different type of bullshit from me \",\n",
              " \" And you gon ' end up with a 5 , 6 , 7 , five , one \",\n",
              " \" But i wo n't even act too cheap \",\n",
              " \" What 's you think , your guy ? \",\n",
              " ' The Goyard so hard man , i be Don l ',\n",
              " \" You see i 'd handle \",\n",
              " ' Who just trying to give me some kind of dick ',\n",
              " ' After i got my back in the dressing room , i just played my off ',\n",
              " ' And cover up the mall by his head ',\n",
              " ' They say you should have seen how our life was supposed to be ? ',\n",
              " \" My friend said she gon ' need a better step \",\n",
              " \" Well we ai n't finna be compared to them \",\n",
              " ' And make it out of our body ',\n",
              " \" Now i 'm on the air and i 'm finna let it go \",\n",
              " ' They say that we inspired ',\n",
              " ' So i might get a call of them Yeezy ',\n",
              " \" i know , i do n't know what you got ' til it 's gone \",\n",
              " \" You think i 'm a straight man , so you gon na kill me \",\n",
              " \" So we never ever say nothin' \",\n",
              " \" i 'm in the Benz with the perfect 10 \",\n",
              " \" That 's why it 's so weak you ca n't tell if you 're home \",\n",
              " \" They say ca n't take it to the floor now \",\n",
              " \" i say way too much for any ass that 's made \",\n",
              " \" But i still hear the track i 'm out of state \",\n",
              " ' Fuck you and all your drawers ',\n",
              " \" You know it 's corny bitches you wish you could unfollow \",\n",
              " ' And you tryna stop stop coming up with your mom ',\n",
              " ' She said she just ai n\\'t from the family , tell her , \" Get away from me \" ',\n",
              " ' Caught up on Concrete Hill and copped him out of gold ',\n",
              " ' With the White Kate and Mary ',\n",
              " \" They do n't want nothin' \",\n",
              " ' She got the same shoes as my wife but she had no shoes ',\n",
              " ' What if we fucked right in the middle ',\n",
              " ' In the one , in the bathroom ',\n",
              " \" You do n't know what we ca n't control \",\n",
              " \" i do n't even want to talk about it \",\n",
              " \" And i 'm so broke i wanna move through the lobby \",\n",
              " \" Cause when i drive and grab the t - o , they ca n't take away from me \",\n",
              " ' Put me on line for the glory , the glory ',\n",
              " \" But i 'm the king of the urban\"]"
            ]
          },
          "metadata": {
            "tags": []
          },
          "execution_count": 17
        }
      ]
    },
    {
      "cell_type": "code",
      "metadata": {
        "id": "VkGBsaCzuuAa"
      },
      "source": [
        ""
      ],
      "execution_count": null,
      "outputs": []
    },
    {
      "cell_type": "markdown",
      "metadata": {
        "id": "sWFgkiZmzx5B"
      },
      "source": [
        "# another example: **Shakespearean play generator** \n",
        "\n"
      ]
    },
    {
      "cell_type": "code",
      "metadata": {
        "id": "PWP4gw-qz2wT",
        "outputId": "8e15d66e-4c37-4172-822a-eea392a1282f",
        "colab": {
          "base_uri": "https://localhost:8080/",
          "height": 422
        }
      },
      "source": [
        "# Dataset\n",
        "import urllib.request #this is for opening url\n",
        "# kanye lyrics: https://pastebin.com/raw/9S5u08EU\n",
        "\n",
        "target_url = \"https://pastebin.com/raw/EyjV8ffZ\" # go to pastebin, paste in your rap lyrics, submit that and then click \"raw\", or swap it out for one of the URL's above\n",
        "dirty_rap_source = urllib.request.urlopen(target_url).read()\n",
        "rap_source = [x.split(b'\\r')[0].decode('utf-8') for x in dirty_rap_source.splitlines()]#I open the url source, and then read line by line\n",
        "#                                                                                         # and then save it to rap_source as list\n",
        "rap_source=[i.replace('\"','') for i in rap_source]\n",
        "\n",
        "from sklearn.model_selection import train_test_split\n",
        "train_set,test_set=train_test_split(rap_source,test_size=0.1) #divide into train and test set\n",
        "df_trn=pd.DataFrame(train_set)\n",
        "df_test=pd.DataFrame(test_set)\n",
        "data_lm = TextLMDataBunch.from_df('./',train_df=df_trn, valid_df=df_test,text_cols=0)\n",
        "learner_Shakespear = language_model_learner(data_lm, AWD_LSTM,drop_mult=0.5)\n",
        "learner_Shakespear.fit_one_cycle(1, 2e-2,moms=(0.8,0.7)) # here we fit our dataset 1 cycle, with learning rate of 2e-2.\n",
        "learner_Shakespear.unfreeze() # we then unfreeze the rest of the language model, and train the model on the whole dataset.\n",
        "learner_Shakespear.fit_one_cycle(10, 2e-2,moms=(0.8,0.7))"
      ],
      "execution_count": null,
      "outputs": [
        {
          "output_type": "display_data",
          "data": {
            "text/html": [
              ""
            ],
            "text/plain": [
              "<IPython.core.display.HTML object>"
            ]
          },
          "metadata": {
            "tags": []
          }
        },
        {
          "output_type": "display_data",
          "data": {
            "text/html": [
              ""
            ],
            "text/plain": [
              "<IPython.core.display.HTML object>"
            ]
          },
          "metadata": {
            "tags": []
          }
        },
        {
          "output_type": "display_data",
          "data": {
            "text/html": [
              "<table border=\"1\" class=\"dataframe\">\n",
              "  <thead>\n",
              "    <tr style=\"text-align: left;\">\n",
              "      <th>epoch</th>\n",
              "      <th>train_loss</th>\n",
              "      <th>valid_loss</th>\n",
              "      <th>accuracy</th>\n",
              "      <th>time</th>\n",
              "    </tr>\n",
              "  </thead>\n",
              "  <tbody>\n",
              "    <tr>\n",
              "      <td>0</td>\n",
              "      <td>4.770309</td>\n",
              "      <td>4.029067</td>\n",
              "      <td>0.279911</td>\n",
              "      <td>00:02</td>\n",
              "    </tr>\n",
              "  </tbody>\n",
              "</table>"
            ],
            "text/plain": [
              "<IPython.core.display.HTML object>"
            ]
          },
          "metadata": {
            "tags": []
          }
        },
        {
          "output_type": "display_data",
          "data": {
            "text/html": [
              "<table border=\"1\" class=\"dataframe\">\n",
              "  <thead>\n",
              "    <tr style=\"text-align: left;\">\n",
              "      <th>epoch</th>\n",
              "      <th>train_loss</th>\n",
              "      <th>valid_loss</th>\n",
              "      <th>accuracy</th>\n",
              "      <th>time</th>\n",
              "    </tr>\n",
              "  </thead>\n",
              "  <tbody>\n",
              "    <tr>\n",
              "      <td>0</td>\n",
              "      <td>3.956928</td>\n",
              "      <td>3.823079</td>\n",
              "      <td>0.303943</td>\n",
              "      <td>00:03</td>\n",
              "    </tr>\n",
              "    <tr>\n",
              "      <td>1</td>\n",
              "      <td>3.815207</td>\n",
              "      <td>3.937426</td>\n",
              "      <td>0.274479</td>\n",
              "      <td>00:03</td>\n",
              "    </tr>\n",
              "    <tr>\n",
              "      <td>2</td>\n",
              "      <td>3.735601</td>\n",
              "      <td>3.753656</td>\n",
              "      <td>0.304539</td>\n",
              "      <td>00:03</td>\n",
              "    </tr>\n",
              "    <tr>\n",
              "      <td>3</td>\n",
              "      <td>3.634139</td>\n",
              "      <td>5.096787</td>\n",
              "      <td>0.122842</td>\n",
              "      <td>00:03</td>\n",
              "    </tr>\n",
              "    <tr>\n",
              "      <td>4</td>\n",
              "      <td>3.650626</td>\n",
              "      <td>3.848439</td>\n",
              "      <td>0.297098</td>\n",
              "      <td>00:03</td>\n",
              "    </tr>\n",
              "    <tr>\n",
              "      <td>5</td>\n",
              "      <td>3.405970</td>\n",
              "      <td>3.811265</td>\n",
              "      <td>0.305060</td>\n",
              "      <td>00:03</td>\n",
              "    </tr>\n",
              "    <tr>\n",
              "      <td>6</td>\n",
              "      <td>3.061718</td>\n",
              "      <td>3.923314</td>\n",
              "      <td>0.306771</td>\n",
              "      <td>00:03</td>\n",
              "    </tr>\n",
              "    <tr>\n",
              "      <td>7</td>\n",
              "      <td>2.671323</td>\n",
              "      <td>4.067795</td>\n",
              "      <td>0.305060</td>\n",
              "      <td>00:03</td>\n",
              "    </tr>\n",
              "    <tr>\n",
              "      <td>8</td>\n",
              "      <td>2.315563</td>\n",
              "      <td>4.164559</td>\n",
              "      <td>0.301860</td>\n",
              "      <td>00:03</td>\n",
              "    </tr>\n",
              "    <tr>\n",
              "      <td>9</td>\n",
              "      <td>2.055634</td>\n",
              "      <td>4.200223</td>\n",
              "      <td>0.302307</td>\n",
              "      <td>00:03</td>\n",
              "    </tr>\n",
              "  </tbody>\n",
              "</table>"
            ],
            "text/plain": [
              "<IPython.core.display.HTML object>"
            ]
          },
          "metadata": {
            "tags": []
          }
        }
      ]
    },
    {
      "cell_type": "code",
      "metadata": {
        "id": "EGTrZwNc2Vdu",
        "outputId": "c09e7af4-4e3f-42ba-cf75-86f92c7fee62",
        "colab": {
          "base_uri": "https://localhost:8080/",
          "height": 731
        }
      },
      "source": [
        "TEXT = \"To be or not to be\"\n",
        "N_WORDS = 500\n",
        "prediction=learner_Shakespear.predict(TEXT, N_WORDS, temperature=0.8) #temperature determines how randomized you want your words to be.\n",
        "prediction.split('xxbos')"
      ],
      "execution_count": null,
      "outputs": [
        {
          "output_type": "execute_result",
          "data": {
            "text/plain": [
              "['To be or not to be contented by thee : ',\n",
              " ' i am no loathsome and write too good . ',\n",
              " ' And , to crave the end of war , being never ',\n",
              " \" Than i from France and England 's fair - bought Welsh , \",\n",
              " ' And so he comes , but yet the foe is merciless , ',\n",
              " ' Great King Henry , York , Buckingham , York , ',\n",
              " ' My lord , a prize ! a prize ! here should i take . ',\n",
              " ' The king his son , Oxford , shall resign his crown . ',\n",
              " ' Speak French , and , hear me speak , speak , ',\n",
              " ' But Ned , that Bolingbroke ',\n",
              " ' wherein will she pay the answer ? ',\n",
              " ' As are of better person than myself . ',\n",
              " \" And for his safety there she 'll shun pursuit . \",\n",
              " ' Which in the time of death he gave : ',\n",
              " \" Whom , knowing Dame Eleanor 's aspiring humour , \",\n",
              " ' And so farewell , and yet , methinks , no more , ',\n",
              " ' For Suffolk , he that died i do , ',\n",
              " ' As is the difference and day of this , ',\n",
              " \" That Clifford 's pride may be borne . \",\n",
              " ' that i do assure my counsel . ',\n",
              " ' It is impossible that i should die ',\n",
              " \" If he be dead , we 'll find them open : \",\n",
              " ' [ Aside to CLARENCE ] The king ! Well , you shall be well opposed ',\n",
              " ' i know not how to get the crown , ',\n",
              " ' The commons here in Kent are up , and thus have we here . ',\n",
              " ' And will not heaven ? or else the tree may stand ',\n",
              " ' By shining whereof that deceitful duke shall run , ',\n",
              " ' i am a soldier , and that i may say , ',\n",
              " ' If we revolt , this hateful name will be thy grave . ',\n",
              " ' And York , loath to trouble you again , ',\n",
              " ' And all the whole inheritance i give ',\n",
              " \" Thou hast dishonour'd Warwick , Duke of York , \",\n",
              " ' Exit ',\n",
              " ' The lady speaks again in Welsh ',\n",
              " ' To merry the people from the dust , ',\n",
              " ' And then i will withdraw thee and take thy end , ',\n",
              " ' If thou be seated as King Edward is , ',\n",
              " \" And yet , in faith , thou shalt be in the world 's end . \",\n",
              " ' The way hath pleasure and the hope of France ',\n",
              " ' They took his head , and on his head ',\n",
              " ' And i to Norfolk with my followers . ',\n",
              " \" Is here , the devil 's\"]"
            ]
          },
          "metadata": {
            "tags": []
          },
          "execution_count": 68
        }
      ]
    },
    {
      "cell_type": "code",
      "metadata": {
        "id": "iZ9NrCd_3Ise"
      },
      "source": [
        ""
      ],
      "execution_count": null,
      "outputs": []
    },
    {
      "cell_type": "markdown",
      "metadata": {
        "id": "B1aSbPsyk4JD"
      },
      "source": [
        "# **Sentiment Analysis: IMDB review classification**"
      ]
    },
    {
      "cell_type": "markdown",
      "metadata": {
        "id": "l76cGxQKuAln"
      },
      "source": [
        "Taken from: https://colab.research.google.com/github/tensorflow/docs/blob/master/site/en/tutorials/keras/text_classification_with_hub.ipynb#scrollTo=2ew7HTbPpCJH"
      ]
    },
    {
      "cell_type": "code",
      "metadata": {
        "id": "aYj1BmeMk3Q6",
        "outputId": "a11695ec-767f-4cdb-fd5a-6eba39981285",
        "colab": {
          "base_uri": "https://localhost:8080/",
          "height": 547
        }
      },
      "source": [
        "from __future__ import absolute_import, division, print_function, unicode_literals\n",
        "\n",
        "import numpy as np\n",
        "\n",
        "try:\n",
        "  # %tensorflow_version only exists in Colab.\n",
        "  %tensorflow_version 2.x\n",
        "except Exception:\n",
        "  pass\n",
        "import tensorflow as tf\n",
        "\n",
        "!pip install tensorflow-hub\n",
        "!pip install tfds-nightly\n",
        "import tensorflow_hub as hub\n",
        "import tensorflow_datasets as tfds\n",
        "\n",
        "print(\"Version: \", tf.__version__)\n",
        "print(\"Eager mode: \", tf.executing_eagerly())\n",
        "print(\"Hub version: \", hub.__version__)\n",
        "print(\"GPU is\", \"available\" if tf.config.experimental.list_physical_devices(\"GPU\") else \"NOT AVAILABLE\")"
      ],
      "execution_count": null,
      "outputs": [
        {
          "output_type": "stream",
          "text": [
            "TensorFlow 2.x selected.\n",
            "Requirement already satisfied: tensorflow-hub in /usr/local/lib/python3.6/dist-packages (0.7.0)\n",
            "Requirement already satisfied: protobuf>=3.4.0 in /tensorflow-2.1.0/python3.6 (from tensorflow-hub) (3.11.2)\n",
            "Requirement already satisfied: six>=1.10.0 in /tensorflow-2.1.0/python3.6 (from tensorflow-hub) (1.13.0)\n",
            "Requirement already satisfied: numpy>=1.12.0 in /tensorflow-2.1.0/python3.6 (from tensorflow-hub) (1.18.1)\n",
            "Requirement already satisfied: setuptools in /tensorflow-2.1.0/python3.6 (from protobuf>=3.4.0->tensorflow-hub) (45.0.0)\n",
            "Requirement already satisfied: tfds-nightly in /usr/local/lib/python3.6/dist-packages (2.0.0.dev202001280105)\n",
            "Requirement already satisfied: protobuf>=3.6.1 in /tensorflow-2.1.0/python3.6 (from tfds-nightly) (3.11.2)\n",
            "Requirement already satisfied: termcolor in /tensorflow-2.1.0/python3.6 (from tfds-nightly) (1.1.0)\n",
            "Requirement already satisfied: requests>=2.19.0 in /tensorflow-2.1.0/python3.6 (from tfds-nightly) (2.22.0)\n",
            "Requirement already satisfied: six in /tensorflow-2.1.0/python3.6 (from tfds-nightly) (1.13.0)\n",
            "Requirement already satisfied: future in /usr/local/lib/python3.6/dist-packages (from tfds-nightly) (0.16.0)\n",
            "Requirement already satisfied: wrapt in /tensorflow-2.1.0/python3.6 (from tfds-nightly) (1.11.2)\n",
            "Requirement already satisfied: numpy in /tensorflow-2.1.0/python3.6 (from tfds-nightly) (1.18.1)\n",
            "Requirement already satisfied: tensorflow-metadata in /usr/local/lib/python3.6/dist-packages (from tfds-nightly) (0.15.2)\n",
            "Requirement already satisfied: attrs>=18.1.0 in /usr/local/lib/python3.6/dist-packages (from tfds-nightly) (19.3.0)\n",
            "Requirement already satisfied: dill in /usr/local/lib/python3.6/dist-packages (from tfds-nightly) (0.3.1.1)\n",
            "Requirement already satisfied: tqdm in /usr/local/lib/python3.6/dist-packages (from tfds-nightly) (4.28.1)\n",
            "Requirement already satisfied: absl-py in /tensorflow-2.1.0/python3.6 (from tfds-nightly) (0.9.0)\n",
            "Requirement already satisfied: promise in /usr/local/lib/python3.6/dist-packages (from tfds-nightly) (2.3)\n",
            "Requirement already satisfied: setuptools in /tensorflow-2.1.0/python3.6 (from protobuf>=3.6.1->tfds-nightly) (45.0.0)\n",
            "Requirement already satisfied: urllib3!=1.25.0,!=1.25.1,<1.26,>=1.21.1 in /tensorflow-2.1.0/python3.6 (from requests>=2.19.0->tfds-nightly) (1.25.7)\n",
            "Requirement already satisfied: chardet<3.1.0,>=3.0.2 in /tensorflow-2.1.0/python3.6 (from requests>=2.19.0->tfds-nightly) (3.0.4)\n",
            "Requirement already satisfied: certifi>=2017.4.17 in /tensorflow-2.1.0/python3.6 (from requests>=2.19.0->tfds-nightly) (2019.11.28)\n",
            "Requirement already satisfied: idna<2.9,>=2.5 in /tensorflow-2.1.0/python3.6 (from requests>=2.19.0->tfds-nightly) (2.8)\n",
            "Requirement already satisfied: googleapis-common-protos in /usr/local/lib/python3.6/dist-packages (from tensorflow-metadata->tfds-nightly) (1.6.0)\n",
            "Version:  2.1.0-rc1\n",
            "Eager mode:  True\n",
            "Hub version:  0.7.0\n",
            "GPU is available\n"
          ],
          "name": "stdout"
        }
      ]
    },
    {
      "cell_type": "code",
      "metadata": {
        "id": "a4ZRdWGplC6c"
      },
      "source": [
        "# Split the training set into 60% and 40%, so we'll end up with 15,000 examples\n",
        "# for training, 10,000 examples for validation and 25,000 examples for testing.\n",
        "train_data, validation_data, test_data = tfds.load(\n",
        "    name=\"imdb_reviews\", \n",
        "    split=('train[:60%]', 'train[60%:]', 'test'),\n",
        "    as_supervised=True)"
      ],
      "execution_count": null,
      "outputs": []
    },
    {
      "cell_type": "code",
      "metadata": {
        "id": "I-SrM4WZlPRn",
        "outputId": "a7144f60-30b3-407d-ef12-39a6966dc312",
        "colab": {
          "base_uri": "https://localhost:8080/",
          "height": 241
        }
      },
      "source": [
        "train_examples_batch, train_labels_batch = next(iter(train_data.batch(10)) # call up the examples\n",
        "train_examples_batch"
      ],
      "execution_count": null,
      "outputs": [
        {
          "output_type": "execute_result",
          "data": {
            "text/plain": [
              "<tf.Tensor: shape=(10,), dtype=string, numpy=\n",
              "array([b\"This was an absolutely terrible movie. Don't be lured in by Christopher Walken or Michael Ironside. Both are great actors, but this must simply be their worst role in history. Even their great acting could not redeem this movie's ridiculous storyline. This movie is an early nineties US propaganda piece. The most pathetic scenes were those when the Columbian rebels were making their cases for revolutions. Maria Conchita Alonso appeared phony, and her pseudo-love affair with Walken was nothing but a pathetic emotional plug in a movie that was devoid of any real meaning. I am disappointed that there are movies like this, ruining actor's like Christopher Walken's good name. I could barely sit through it.\",\n",
              "       b'I have been known to fall asleep during films, but this is usually due to a combination of things including, really tired, being warm and comfortable on the sette and having just eaten a lot. However on this occasion I fell asleep because the film was rubbish. The plot development was constant. Constantly slow and boring. Things seemed to happen, but with no explanation of what was causing them or why. I admit, I may have missed part of the film, but i watched the majority of it and everything just seemed to happen of its own accord without any real concern for anything else. I cant recommend this film at all.',\n",
              "       b'Mann photographs the Alberta Rocky Mountains in a superb fashion, and Jimmy Stewart and Walter Brennan give enjoyable performances as they always seem to do. <br /><br />But come on Hollywood - a Mountie telling the people of Dawson City, Yukon to elect themselves a marshal (yes a marshal!) and to enforce the law themselves, then gunfighters battling it out on the streets for control of the town? <br /><br />Nothing even remotely resembling that happened on the Canadian side of the border during the Klondike gold rush. Mr. Mann and company appear to have mistaken Dawson City for Deadwood, the Canadian North for the American Wild West.<br /><br />Canadian viewers be prepared for a Reefer Madness type of enjoyable howl with this ludicrous plot, or, to shake your head in disgust.',\n",
              "       b'This is the kind of film for a snowy Sunday afternoon when the rest of the world can go ahead with its own business as you descend into a big arm-chair and mellow for a couple of hours. Wonderful performances from Cher and Nicolas Cage (as always) gently row the plot along. There are no rapids to cross, no dangerous waters, just a warm and witty paddle through New York life at its best. A family film in every sense and one that deserves the praise it received.',\n",
              "       b'As others have mentioned, all the women that go nude in this film are mostly absolutely gorgeous. The plot very ably shows the hypocrisy of the female libido. When men are around they want to be pursued, but when no \"men\" are around, they become the pursuers of a 14 year old boy. And the boy becomes a man really fast (we should all be so lucky at this age!). He then gets up the courage to pursue his true love.',\n",
              "       b\"This is a film which should be seen by anybody interested in, effected by, or suffering from an eating disorder. It is an amazingly accurate and sensitive portrayal of bulimia in a teenage girl, its causes and its symptoms. The girl is played by one of the most brilliant young actresses working in cinema today, Alison Lohman, who was later so spectacular in 'Where the Truth Lies'. I would recommend that this film be shown in all schools, as you will never see a better on this subject. Alison Lohman is absolutely outstanding, and one marvels at her ability to convey the anguish of a girl suffering from this compulsive disorder. If barometers tell us the air pressure, Alison Lohman tells us the emotional pressure with the same degree of accuracy. Her emotional range is so precise, each scene could be measured microscopically for its gradations of trauma, on a scale of rising hysteria and desperation which reaches unbearable intensity. Mare Winningham is the perfect choice to play her mother, and does so with immense sympathy and a range of emotions just as finely tuned as Lohman's. Together, they make a pair of sensitive emotional oscillators vibrating in resonance with one another. This film is really an astonishing achievement, and director Katt Shea should be proud of it. The only reason for not seeing it is if you are not interested in people. But even if you like nature films best, this is after all animal behaviour at the sharp edge. Bulimia is an extreme version of how a tormented soul can destroy her own body in a frenzy of despair. And if we don't sympathise with people suffering from the depths of despair, then we are dead inside.\",\n",
              "       b'Okay, you have:<br /><br />Penelope Keith as Miss Herringbone-Tweed, B.B.E. (Backbone of England.) She\\'s killed off in the first scene - that\\'s right, folks; this show has no backbone!<br /><br />Peter O\\'Toole as Ol\\' Colonel Cricket from The First War and now the emblazered Lord of the Manor.<br /><br />Joanna Lumley as the ensweatered Lady of the Manor, 20 years younger than the colonel and 20 years past her own prime but still glamourous (Brit spelling, not mine) enough to have a toy-boy on the side. It\\'s alright, they have Col. Cricket\\'s full knowledge and consent (they guy even comes \\'round for Christmas!) Still, she\\'s considerate of the colonel enough to have said toy-boy her own age (what a gal!)<br /><br />David McCallum as said toy-boy, equally as pointlessly glamourous as his squeeze. Pilcher couldn\\'t come up with any cover for him within the story, so she gave him a hush-hush job at the Circus.<br /><br />and finally:<br /><br />Susan Hampshire as Miss Polonia Teacups, Venerable Headmistress of the Venerable Girls\\' Boarding-School, serving tea in her office with a dash of deep, poignant advice for life in the outside world just before graduation. Her best bit of advice: \"I\\'ve only been to Nancherrow (the local Stately Home of England) once. I thought it was very beautiful but, somehow, not part of the real world.\" Well, we can\\'t say they didn\\'t warn us.<br /><br />Ah, Susan - time was, your character would have been running the whole show. They don\\'t write \\'em like that any more. Our loss, not yours.<br /><br />So - with a cast and setting like this, you have the re-makings of \"Brideshead Revisited,\" right?<br /><br />Wrong! They took these 1-dimensional supporting roles because they paid so well. After all, acting is one of the oldest temp-jobs there is (YOU name another!)<br /><br />First warning sign: lots and lots of backlighting. They get around it by shooting outdoors - \"hey, it\\'s just the sunlight!\"<br /><br />Second warning sign: Leading Lady cries a lot. When not crying, her eyes are moist. That\\'s the law of romance novels: Leading Lady is \"dewy-eyed.\"<br /><br />Henceforth, Leading Lady shall be known as L.L.<br /><br />Third warning sign: L.L. actually has stars in her eyes when she\\'s in love. Still, I\\'ll give Emily Mortimer an award just for having to act with that spotlight in her eyes (I wonder . did they use contacts?)<br /><br />And lastly, fourth warning sign: no on-screen female character is \"Mrs.\" She\\'s either \"Miss\" or \"Lady.\"<br /><br />When all was said and done, I still couldn\\'t tell you who was pursuing whom and why. I couldn\\'t even tell you what was said and done.<br /><br />To sum up: they all live through World War II without anything happening to them at all.<br /><br />OK, at the end, L.L. finds she\\'s lost her parents to the Japanese prison camps and baby sis comes home catatonic. Meanwhile (there\\'s always a \"meanwhile,\") some young guy L.L. had a crush on (when, I don\\'t know) comes home from some wartime tough spot and is found living on the street by Lady of the Manor (must be some street if SHE\\'s going to find him there.) Both war casualties are whisked away to recover at Nancherrow (SOMEBODY has to be \"whisked away\" SOMEWHERE in these romance stories!)<br /><br />Great drama.',\n",
              "       b'The film is based on a genuine 1950s novel.<br /><br />Journalist Colin McInnes wrote a set of three \"London novels\": \"Absolute Beginners\", \"City of Spades\" and \"Mr Love and Justice\". I have read all three. The first two are excellent. The last, perhaps an experiment that did not come off. But McInnes\\'s work is highly acclaimed; and rightly so. This musical is the novelist\\'s ultimate nightmare - to see the fruits of one\\'s mind being turned into a glitzy, badly-acted, soporific one-dimensional apology of a film that says it captures the spirit of 1950s London, and does nothing of the sort.<br /><br />Thank goodness Colin McInnes wasn\\'t alive to witness it.',\n",
              "       b'I really love the sexy action and sci-fi films of the sixties and its because of the actress\\'s that appeared in them. They found the sexiest women to be in these films and it didn\\'t matter if they could act (Remember \"Candy\"?). The reason I was disappointed by this film was because it wasn\\'t nostalgic enough. The story here has a European sci-fi film called \"Dragonfly\" being made and the director is fired. So the producers decide to let a young aspiring filmmaker (Jeremy Davies) to complete the picture. They\\'re is one real beautiful woman in the film who plays Dragonfly but she\\'s barely in it. Film is written and directed by Roman Coppola who uses some of his fathers exploits from his early days and puts it into the script. I wish the film could have been an homage to those early films. They could have lots of cameos by actors who appeared in them. There is one actor in this film who was popular from the sixties and its John Phillip Law (Barbarella). Gerard Depardieu, Giancarlo Giannini and Dean Stockwell appear as well. I guess I\\'m going to have to continue waiting for a director to make a good homage to the films of the sixties. If any are reading this, \"Make it as sexy as you can\"! I\\'ll be waiting!',\n",
              "       b'Sure, this one isn\\'t really a blockbuster, nor does it target such a position. \"Dieter\" is the first name of a quite popular German musician, who is either loved or hated for his kind of acting and thats exactly what this movie is about. It is based on the autobiography \"Dieter Bohlen\" wrote a few years ago but isn\\'t meant to be accurate on that. The movie is filled with some sexual offensive content (at least for American standard) which is either amusing (not for the other \"actors\" of course) or dumb - it depends on your individual kind of humor or on you being a \"Bohlen\"-Fan or not. Technically speaking there isn\\'t much to criticize. Speaking of me I find this movie to be an OK-movie.'],\n",
              "      dtype=object)>"
            ]
          },
          "metadata": {
            "tags": []
          },
          "execution_count": 3
        }
      ]
    },
    {
      "cell_type": "code",
      "metadata": {
        "id": "2KO9P4HAlatP",
        "outputId": "74705471-9f55-480a-b266-16e0d49d765d",
        "colab": {
          "base_uri": "https://localhost:8080/",
          "height": 34
        }
      },
      "source": [
        "train_labels_batch"
      ],
      "execution_count": null,
      "outputs": [
        {
          "output_type": "execute_result",
          "data": {
            "text/plain": [
              "<tf.Tensor: shape=(10,), dtype=int64, numpy=array([0, 0, 0, 1, 1, 1, 0, 0, 0, 0])>"
            ]
          },
          "metadata": {
            "tags": []
          },
          "execution_count": 4
        }
      ]
    },
    {
      "cell_type": "code",
      "metadata": {
        "id": "lIWZQAdDlbOg",
        "outputId": "9b8a7146-213d-4eb4-ae35-815e545f2a3b",
        "colab": {
          "base_uri": "https://localhost:8080/",
          "height": 255
        }
      },
      "source": [
        "embedding = \"https://tfhub.dev/google/tf2-preview/gnews-swivel-20dim/1\" # use the pre-trained embeddings\n",
        "hub_layer = hub.KerasLayer(embedding, input_shape=[], \n",
        "                           dtype=tf.string, trainable=True)\n",
        "hub_layer(train_examples_batch[:3])# doesn't matter how long the sentences are, the embedding input will always have the same dimension."
      ],
      "execution_count": null,
      "outputs": [
        {
          "output_type": "execute_result",
          "data": {
            "text/plain": [
              "<tf.Tensor: shape=(3, 20), dtype=float32, numpy=\n",
              "array([[ 1.765786  , -3.882232  ,  3.9134233 , -1.5557289 , -3.3362343 ,\n",
              "        -1.7357955 , -1.9954445 ,  1.2989551 ,  5.081598  , -1.1041286 ,\n",
              "        -2.0503852 , -0.72675157, -0.65675956,  0.24436149, -3.7208383 ,\n",
              "         2.0954835 ,  2.2969332 , -2.0689783 , -2.9489717 , -1.1315987 ],\n",
              "       [ 1.8804485 , -2.5852382 ,  3.4066997 ,  1.0982676 , -4.056685  ,\n",
              "        -4.891284  , -2.785554  ,  1.3874227 ,  3.8476458 , -0.9256538 ,\n",
              "        -1.896706  ,  1.2113281 ,  0.11474707,  0.76209456, -4.8791065 ,\n",
              "         2.906149  ,  4.7087674 , -2.3652055 , -3.5015898 , -1.6390051 ],\n",
              "       [ 0.71152234, -0.6353217 ,  1.7385626 , -1.1168286 , -0.5451594 ,\n",
              "        -1.1808156 ,  0.09504455,  1.4653089 ,  0.66059524,  0.79308075,\n",
              "        -2.2268345 ,  0.07446612, -1.4075904 , -0.70645386, -1.907037  ,\n",
              "         1.4419787 ,  1.9551861 , -0.42660055, -2.8022065 ,  0.43727064]],\n",
              "      dtype=float32)>"
            ]
          },
          "metadata": {
            "tags": []
          },
          "execution_count": 5
        }
      ]
    },
    {
      "cell_type": "code",
      "metadata": {
        "id": "QskmILqJuX0L",
        "outputId": "5572df6e-a208-4c0c-b499-198186abe718",
        "colab": {
          "base_uri": "https://localhost:8080/",
          "height": 119
        }
      },
      "source": [
        ""
      ],
      "execution_count": null,
      "outputs": [
        {
          "output_type": "execute_result",
          "data": {
            "text/plain": [
              "<tf.Tensor: shape=(1, 20), dtype=float32, numpy=\n",
              "array([[ 0.8771677 , -4.3859434 ,  4.5861564 , -1.8083508 , -2.7040975 ,\n",
              "        -2.61265   , -2.56528   ,  0.85366595,  4.640281  , -1.0381072 ,\n",
              "        -1.4069302 ,  0.25684452,  0.08177447,  0.88873774, -3.1487586 ,\n",
              "         3.3401423 ,  2.351665  , -1.933979  , -2.0873525 , -0.9392492 ]],\n",
              "      dtype=float32)>"
            ]
          },
          "metadata": {
            "tags": []
          },
          "execution_count": 20
        }
      ]
    },
    {
      "cell_type": "markdown",
      "metadata": {
        "id": "n8tb_GKKt3tD"
      },
      "source": [
        "Open the [Embedding Projector](http://projector.tensorflow.org/)"
      ]
    },
    {
      "cell_type": "code",
      "metadata": {
        "id": "6vxadCZVsAxD",
        "outputId": "72f1d48e-e674-474b-8b88-01111b7550d6",
        "colab": {
          "base_uri": "https://localhost:8080/",
          "height": 255
        }
      },
      "source": [
        "model = tf.keras.Sequential()\n",
        "model.add(hub_layer)\n",
        "model.add(tf.keras.layers.Dense(16, activation='relu'))\n",
        "model.add(tf.keras.layers.Dense(1, activation='sigmoid'))\n",
        "\n",
        "model.summary()"
      ],
      "execution_count": null,
      "outputs": [
        {
          "output_type": "stream",
          "text": [
            "Model: \"sequential\"\n",
            "_________________________________________________________________\n",
            "Layer (type)                 Output Shape              Param #   \n",
            "=================================================================\n",
            "keras_layer (KerasLayer)     (None, 20)                400020    \n",
            "_________________________________________________________________\n",
            "dense (Dense)                (None, 16)                336       \n",
            "_________________________________________________________________\n",
            "dense_1 (Dense)              (None, 1)                 17        \n",
            "=================================================================\n",
            "Total params: 400,373\n",
            "Trainable params: 400,373\n",
            "Non-trainable params: 0\n",
            "_________________________________________________________________\n"
          ],
          "name": "stdout"
        }
      ]
    },
    {
      "cell_type": "code",
      "metadata": {
        "id": "bFcXtEzCsEO5"
      },
      "source": [
        "model.compile(optimizer='adam',\n",
        "              loss='binary_crossentropy',\n",
        "              metrics=['accuracy'])"
      ],
      "execution_count": null,
      "outputs": []
    },
    {
      "cell_type": "code",
      "metadata": {
        "id": "e70V-FOksFdK",
        "outputId": "124ec1dc-c090-4a4e-d53c-18986718643c",
        "colab": {
          "base_uri": "https://localhost:8080/",
          "height": 697
        }
      },
      "source": [
        "history = model.fit(train_data.shuffle(10000).batch(512),\n",
        "                    epochs=20,\n",
        "                    validation_data=validation_data.batch(512),\n",
        "                    verbose=1)"
      ],
      "execution_count": null,
      "outputs": [
        {
          "output_type": "stream",
          "text": [
            "Epoch 1/20\n",
            "30/30 [==============================] - 5s 168ms/step - loss: 2.0095 - accuracy: 0.5009 - val_loss: 0.7945 - val_accuracy: 0.5354\n",
            "Epoch 2/20\n",
            "30/30 [==============================] - 4s 134ms/step - loss: 0.6958 - accuracy: 0.5910 - val_loss: 0.6575 - val_accuracy: 0.6160\n",
            "Epoch 3/20\n",
            "30/30 [==============================] - 4s 136ms/step - loss: 0.6460 - accuracy: 0.6341 - val_loss: 0.6354 - val_accuracy: 0.6370\n",
            "Epoch 4/20\n",
            "30/30 [==============================] - 4s 133ms/step - loss: 0.6265 - accuracy: 0.6566 - val_loss: 0.6205 - val_accuracy: 0.6526\n",
            "Epoch 5/20\n",
            "30/30 [==============================] - 4s 139ms/step - loss: 0.6087 - accuracy: 0.6747 - val_loss: 0.6062 - val_accuracy: 0.6694\n",
            "Epoch 6/20\n",
            "30/30 [==============================] - 4s 139ms/step - loss: 0.5910 - accuracy: 0.6915 - val_loss: 0.5912 - val_accuracy: 0.6836\n",
            "Epoch 7/20\n",
            "30/30 [==============================] - 4s 137ms/step - loss: 0.5725 - accuracy: 0.7082 - val_loss: 0.5744 - val_accuracy: 0.7000\n",
            "Epoch 8/20\n",
            "30/30 [==============================] - 4s 143ms/step - loss: 0.5515 - accuracy: 0.7243 - val_loss: 0.5557 - val_accuracy: 0.7155\n",
            "Epoch 9/20\n",
            "30/30 [==============================] - 4s 137ms/step - loss: 0.5288 - accuracy: 0.7441 - val_loss: 0.5364 - val_accuracy: 0.7313\n",
            "Epoch 10/20\n",
            "30/30 [==============================] - 4s 149ms/step - loss: 0.5062 - accuracy: 0.7619 - val_loss: 0.5165 - val_accuracy: 0.7486\n",
            "Epoch 11/20\n",
            "30/30 [==============================] - 4s 146ms/step - loss: 0.4813 - accuracy: 0.7811 - val_loss: 0.4964 - val_accuracy: 0.7655\n",
            "Epoch 12/20\n",
            "30/30 [==============================] - 4s 144ms/step - loss: 0.4563 - accuracy: 0.7985 - val_loss: 0.4752 - val_accuracy: 0.7782\n",
            "Epoch 13/20\n",
            "30/30 [==============================] - 4s 143ms/step - loss: 0.4298 - accuracy: 0.8158 - val_loss: 0.4532 - val_accuracy: 0.7948\n",
            "Epoch 14/20\n",
            "30/30 [==============================] - 4s 143ms/step - loss: 0.4008 - accuracy: 0.8325 - val_loss: 0.4313 - val_accuracy: 0.8078\n",
            "Epoch 15/20\n",
            "30/30 [==============================] - 4s 142ms/step - loss: 0.3748 - accuracy: 0.8491 - val_loss: 0.4100 - val_accuracy: 0.8206\n",
            "Epoch 16/20\n",
            "30/30 [==============================] - 4s 139ms/step - loss: 0.3456 - accuracy: 0.8631 - val_loss: 0.3907 - val_accuracy: 0.8309\n",
            "Epoch 17/20\n",
            "30/30 [==============================] - 4s 142ms/step - loss: 0.3204 - accuracy: 0.8769 - val_loss: 0.3728 - val_accuracy: 0.8411\n",
            "Epoch 18/20\n",
            "30/30 [==============================] - 4s 143ms/step - loss: 0.2966 - accuracy: 0.8865 - val_loss: 0.3578 - val_accuracy: 0.8486\n",
            "Epoch 19/20\n",
            "30/30 [==============================] - 4s 143ms/step - loss: 0.2752 - accuracy: 0.8964 - val_loss: 0.3481 - val_accuracy: 0.8519\n",
            "Epoch 20/20\n",
            "30/30 [==============================] - 4s 144ms/step - loss: 0.2558 - accuracy: 0.9060 - val_loss: 0.3349 - val_accuracy: 0.8593\n"
          ],
          "name": "stdout"
        }
      ]
    },
    {
      "cell_type": "code",
      "metadata": {
        "id": "Y-JVRQ6SsG-s",
        "outputId": "f9a4d2a6-9718-4626-8434-efa506333f94",
        "colab": {
          "base_uri": "https://localhost:8080/",
          "height": 51
        }
      },
      "source": [
        "results = model.evaluate(test_data.batch(512), verbose=2)\n",
        "\n",
        "for name, value in zip(model.metrics_names, results):\n",
        "  print(\"%s: %.3f\" % (name, value))"
      ],
      "execution_count": null,
      "outputs": [
        {
          "output_type": "stream",
          "text": [
            "loss: 0.351\n",
            "accuracy: 0.847\n"
          ],
          "name": "stdout"
        }
      ]
    },
    {
      "cell_type": "code",
      "metadata": {
        "id": "hK3RC-ntsJPU",
        "outputId": "a95c2ede-6084-486b-f00a-8b95efd51a14",
        "colab": {
          "base_uri": "https://localhost:8080/",
          "height": 34
        }
      },
      "source": [
        "string=tf.constant('I love this movie')\n",
        "model.predict(tf.reshape(string,(1,)))"
      ],
      "execution_count": null,
      "outputs": [
        {
          "output_type": "execute_result",
          "data": {
            "text/plain": [
              "array([[0.84114534]], dtype=float32)"
            ]
          },
          "metadata": {
            "tags": []
          },
          "execution_count": 17
        }
      ]
    },
    {
      "cell_type": "code",
      "metadata": {
        "id": "tfinKNNBtfkq"
      },
      "source": [
        ""
      ],
      "execution_count": null,
      "outputs": []
    }
  ]
}